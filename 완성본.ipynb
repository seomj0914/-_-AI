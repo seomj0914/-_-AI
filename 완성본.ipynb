{
  "nbformat": 4,
  "nbformat_minor": 0,
  "metadata": {
    "colab": {
      "provenance": []
    },
    "kernelspec": {
      "name": "python3",
      "display_name": "Python 3"
    },
    "language_info": {
      "name": "python"
    }
  },
  "cells": [
    {
      "cell_type": "markdown",
      "source": [
        "##1. 갓생 적금"
      ],
      "metadata": {
        "id": "Tux1B8RWt4u1"
      }
    },
    {
      "cell_type": "markdown",
      "source": [
        "## 구글 드라이브 마운트"
      ],
      "metadata": {
        "id": "PLjqixDUlBTF"
      }
    },
    {
      "cell_type": "code",
      "source": [
        "from google.colab import drive  \n",
        "\n",
        "drive.mount('/content/MyDrive')"
      ],
      "metadata": {
        "colab": {
          "base_uri": "https://localhost:8080/"
        },
        "id": "ag5JpR_LlCL4",
        "outputId": "8d2eab5d-1b81-4a8c-f2bb-373bf9806b6d"
      },
      "execution_count": 1,
      "outputs": [
        {
          "output_type": "stream",
          "name": "stdout",
          "text": [
            "Drive already mounted at /content/MyDrive; to attempt to forcibly remount, call drive.mount(\"/content/MyDrive\", force_remount=True).\n"
          ]
        }
      ]
    },
    {
      "cell_type": "markdown",
      "source": [
        "## package 설치"
      ],
      "metadata": {
        "id": "NQIs1NUOl1_U"
      }
    },
    {
      "cell_type": "code",
      "execution_count": 2,
      "metadata": {
        "id": "PNRjWFnWk7vK"
      },
      "outputs": [],
      "source": [
        "from openpyxl import load_workbook"
      ]
    },
    {
      "cell_type": "markdown",
      "source": [
        "##소비 횟수 및 카테고리별 적금정보 입력"
      ],
      "metadata": {
        "id": "nWYoSEM8lGpw"
      }
    },
    {
      "cell_type": "code",
      "source": [
        "datas = {'커피':0, '외식':0, '배달비':0, '뷰티/미용/쇼핑':0, '편의점/마트':0, '그외':0} #카테고리별 소비 횟수\n",
        "savings = {'커피':['커피값 아끼기 적금', '주 5회','1,000원','5,000원','연 3.2%'],\n",
        "           '외식':['외식값 아끼기 적금', '주 1회', '10,000원', '20,000원', '연 2.4%'],\n",
        "           '배달비':['배달비 아끼기 적금', '주 3회', '15,000원', '30,000원', '연 3.2%'],\n",
        "           '편의점/마트':['편의점/마트 아끼기 적금', '주 2회', '10,000원', '30,000원', '연 2.8%'],\n",
        "           '뷰티/미용/쇼핑':['뷰티/미용/쇼핑 아끼기 적금', '월 1회', '10,000원', '100,000원', '연 2.6%'],\n",
        "           '그외':['뭐든 아끼기 적금', '주 2회', '5,000원', '20,000원', '연 3%']} #카테고리별 적금 정보 -> 6개월 및 우대금리 +2%는 고정이므로 따로 값 생성X, 순서 : 적금명,최대납입횟수,최소금액,최대금액,기본금리\n"
      ],
      "metadata": {
        "id": "FA_9X_cflLj2"
      },
      "execution_count": 48,
      "outputs": []
    },
    {
      "cell_type": "markdown",
      "source": [
        "##카드이용내역\n"
      ],
      "metadata": {
        "id": "AFOQpn9AlRHi"
      }
    },
    {
      "cell_type": "code",
      "source": [
        "#엑셀 파일 읽기\n",
        "wb = load_workbook('/content/MyDrive/MyDrive/카드이용내역.xlsx') \n",
        "ws = wb[wb.sheetnames[1]] #2번째 시트 사용 "
      ],
      "metadata": {
        "id": "THuntOo-lV25"
      },
      "execution_count": 49,
      "outputs": []
    },
    {
      "cell_type": "markdown",
      "source": [
        "##반복문"
      ],
      "metadata": {
        "id": "qyNXC5_Jlxcl"
      }
    },
    {
      "cell_type": "code",
      "source": [
        "for r in range(2,ws.max_row+1): #2부터 시트의 최대 행까지 for문 돌림\n",
        "    s = ws.cell(row=r, column=3).value #r번째 행 3번째 열을 읽음\n",
        "    if s not in datas.keys(): #s가 datas.keys(), 즉 커피, 외식 등등에 해당하지 않을 경우(공란일 경우 포함)\n",
        "        s = '그외' #s를 그 외로 지정함\n",
        "    datas[s] = datas[s]+1 #datas[s]로 해당 카테고리의 소비횟수를 1 더함\n",
        "\n",
        "l = [] #빈 리스트\n",
        "for key in datas.keys():\n",
        "    l.append(datas[key]) #각 소비 횟수를 l에 추가\n",
        "saving = savings[list(datas.keys())[list(datas.values()).index(max(l))]]"
      ],
      "metadata": {
        "id": "208N9TgFloZn"
      },
      "execution_count": 50,
      "outputs": []
    },
    {
      "cell_type": "markdown",
      "source": [
        "##추천 적금 안내"
      ],
      "metadata": {
        "id": "Et2Agn3QmTkw"
      }
    },
    {
      "cell_type": "code",
      "source": [
        "s = 0 #sum = 0\n",
        "for itm in l:\n",
        "    s += itm\n",
        "    #l (소비 횟수 리스트)의 전체 내용을 s에 더함 -> s : 총 소비횟수\n",
        "\n",
        "\n",
        "print(\"당신의 소비는 \",end=\"\") #줄바꿈 없이 출력\n",
        "for key in datas.keys(): #key에 카테고리(커피, 외식 등등)를 넣어 for문 돌림\n",
        "    print(str(key) + \" \" + str(round(datas[key] * 100 / s, 2)) + \"%\", end=\" \") #str(key) : key를 문자열로 변환\n",
        "    #str(round(datas[key] * 100 /s, 2)) : datas[key]로 해당 카테고리의 소비 횟수 가져옴 -> 100을 곱한 후 s(총 소비횟수) 나눔 -> 퍼센트값 -> round(~~, 2)로 소숫점 아래 두자리까지 자름 ->문자열 더하기를 이용하기 위해 str로 감싸 문자열로 s변환\n",
        "print(\"입니다.\")\n",
        "print(\"추천하는 적금은 \"+saving[0]+'입니다.이 적금은 기한 6개월의 상품이며, 최대 납입 횟수는 '+saving[1]+'입니다.\\n이 적금은 1회 납입 시 최소 '+saving[2]+'부터 최대 '+saving[3]+'까지 납입하실 수 있습니다.\\n금리는 기본 '+saving[4]+'이며, 우대 적용시 2%까지 추가적용 가능합니다.')"
      ],
      "metadata": {
        "colab": {
          "base_uri": "https://localhost:8080/"
        },
        "id": "0lZsUe2vVaUa",
        "outputId": "fdb856de-22b1-4faa-8b9f-3204a755ee2c"
      },
      "execution_count": 51,
      "outputs": [
        {
          "output_type": "stream",
          "name": "stdout",
          "text": [
            "당신의 소비는 커피 12.93% 외식 18.82% 배달비 2.13% 뷰티/미용/쇼핑 23.57% 편의점/마트 11.13% 그외 31.42% 입니다.\n",
            "추천하는 적금은 뭐든 아끼기 적금입니다.이 적금은 기한 6개월의 상품이며, 최대 납입 횟수는 주 2회입니다.\n",
            "이 적금은 1회 납입 시 최소 5,000원부터 최대 20,000원까지 납입하실 수 있습니다.\n",
            "금리는 기본 연 3%이며, 우대 적용시 2%까지 추가적용 가능합니다.\n"
          ]
        }
      ]
    },
    {
      "cell_type": "markdown",
      "source": [
        "## 시각화"
      ],
      "metadata": {
        "id": "dYkPRXkJn4sS"
      }
    },
    {
      "cell_type": "code",
      "source": [
        "!sudo apt-get install -y fonts-nanum\n",
        "!sudo fc-cache -fv\n",
        "!rm ~/.cache/matplotlib -rf"
      ],
      "metadata": {
        "colab": {
          "base_uri": "https://localhost:8080/"
        },
        "id": "FUxlDinKIFfU",
        "outputId": "e7009a21-c3bd-4535-b246-db0ce3175fcd"
      },
      "execution_count": 52,
      "outputs": [
        {
          "output_type": "stream",
          "name": "stdout",
          "text": [
            "Reading package lists... Done\n",
            "Building dependency tree       \n",
            "Reading state information... Done\n",
            "fonts-nanum is already the newest version (20180306-3).\n",
            "0 upgraded, 0 newly installed, 0 to remove and 24 not upgraded.\n",
            "/usr/share/fonts: caching, new cache contents: 0 fonts, 1 dirs\n",
            "/usr/share/fonts/truetype: caching, new cache contents: 0 fonts, 3 dirs\n",
            "/usr/share/fonts/truetype/humor-sans: caching, new cache contents: 1 fonts, 0 dirs\n",
            "/usr/share/fonts/truetype/liberation: caching, new cache contents: 16 fonts, 0 dirs\n",
            "/usr/share/fonts/truetype/nanum: caching, new cache contents: 10 fonts, 0 dirs\n",
            "/usr/local/share/fonts: caching, new cache contents: 0 fonts, 0 dirs\n",
            "/root/.local/share/fonts: skipping, no such directory\n",
            "/root/.fonts: skipping, no such directory\n",
            "/usr/share/fonts/truetype: skipping, looped directory detected\n",
            "/usr/share/fonts/truetype/humor-sans: skipping, looped directory detected\n",
            "/usr/share/fonts/truetype/liberation: skipping, looped directory detected\n",
            "/usr/share/fonts/truetype/nanum: skipping, looped directory detected\n",
            "/var/cache/fontconfig: cleaning cache directory\n",
            "/root/.cache/fontconfig: not cleaning non-existent cache directory\n",
            "/root/.fontconfig: not cleaning non-existent cache directory\n",
            "fc-cache: succeeded\n"
          ]
        }
      ]
    },
    {
      "cell_type": "code",
      "source": [
        "import matplotlib\n",
        "import matplotlib.pyplot as plt # 맷플롯립 import 하기\n",
        "import warnings \n",
        "warnings.filterwarnings(action='ignore')\n",
        "plt.rc('font', family='NanumBarunGothic') "
      ],
      "metadata": {
        "id": "upjz0-LsIR1L"
      },
      "execution_count": 53,
      "outputs": []
    },
    {
      "cell_type": "code",
      "source": [
        "s_list = []\n",
        "\n",
        "# 리스트의 요소들을 하나씩 더해가며 s_list에 추가\n",
        "s = 0\n",
        "for itm in l:\n",
        "    s += itm\n",
        "    s_list.append(s)\n",
        "\n",
        "# 각 항목의 라벨을 정의\n",
        "datas = ['커피', '외식', '배달비', '뷰티/미용/쇼핑', '편의점/마트', '그외']\n",
        "\n",
        "# pie() 함수를 사용하여 원 그래프를 그림\n",
        "plt.pie(s_list, labels=datas)\n",
        "\n",
        "# 그래프를 출력\n",
        "plt.show()\n"
      ],
      "metadata": {
        "colab": {
          "base_uri": "https://localhost:8080/",
          "height": 406
        },
        "id": "aN377VITn-AX",
        "outputId": "fb2368d2-0e09-457f-80ef-d010a89f7f37"
      },
      "execution_count": 54,
      "outputs": [
        {
          "output_type": "display_data",
          "data": {
            "text/plain": [
              "<Figure size 640x480 with 1 Axes>"
            ],
            "image/png": "[encoded data removed]"
          },
          "metadata": {}
        }
      ]
    },
    {
      "cell_type": "markdown",
      "source": [
        "## 2. 갓생 예금"
      ],
      "metadata": {
        "id": "FvTqAkBcuAPQ"
      }
    },
    {
      "cell_type": "markdown",
      "source": [
        "## package 설치"
      ],
      "metadata": {
        "id": "Dwqf8uP2uKuZ"
      }
    },
    {
      "cell_type": "code",
      "source": [
        "!pip install opencv-contrib-python\n",
        "!pip install --upgrade google-cloud-vision"
      ],
      "metadata": {
        "colab": {
          "base_uri": "https://localhost:8080/"
        },
        "id": "xUzLaEHbuI0I",
        "outputId": "a8f99ad0-0a39-4107-9364-82dc6afb57e1"
      },
      "execution_count": 10,
      "outputs": [
        {
          "output_type": "stream",
          "name": "stdout",
          "text": [
            "Looking in indexes: https://pypi.org/simple, https://us-python.pkg.dev/colab-wheels/public/simple/\n",
            "Requirement already satisfied: opencv-contrib-python in /usr/local/lib/python3.10/dist-packages (4.7.0.72)\n",
            "Requirement already satisfied: numpy>=1.19.3 in /usr/local/lib/python3.10/dist-packages (from opencv-contrib-python) (1.22.4)\n",
            "Looking in indexes: https://pypi.org/simple, https://us-python.pkg.dev/colab-wheels/public/simple/\n",
            "Requirement already satisfied: google-cloud-vision in /usr/local/lib/python3.10/dist-packages (3.4.1)\n",
            "Requirement already satisfied: protobuf!=3.20.0,!=3.20.1,!=4.21.0,!=4.21.1,!=4.21.2,!=4.21.3,!=4.21.4,!=4.21.5,<5.0.0dev,>=3.19.5 in /usr/local/lib/python3.10/dist-packages (from google-cloud-vision) (3.20.3)\n",
            "Requirement already satisfied: google-api-core[grpc]!=2.0.*,!=2.1.*,!=2.10.*,!=2.2.*,!=2.3.*,!=2.4.*,!=2.5.*,!=2.6.*,!=2.7.*,!=2.8.*,!=2.9.*,<3.0.0dev,>=1.34.0 in /usr/local/lib/python3.10/dist-packages (from google-cloud-vision) (2.11.0)\n",
            "Requirement already satisfied: proto-plus<2.0.0dev,>=1.22.0 in /usr/local/lib/python3.10/dist-packages (from google-cloud-vision) (1.22.2)\n",
            "Requirement already satisfied: google-auth<3.0dev,>=2.14.1 in /usr/local/lib/python3.10/dist-packages (from google-api-core[grpc]!=2.0.*,!=2.1.*,!=2.10.*,!=2.2.*,!=2.3.*,!=2.4.*,!=2.5.*,!=2.6.*,!=2.7.*,!=2.8.*,!=2.9.*,<3.0.0dev,>=1.34.0->google-cloud-vision) (2.17.3)\n",
            "Requirement already satisfied: requests<3.0.0dev,>=2.18.0 in /usr/local/lib/python3.10/dist-packages (from google-api-core[grpc]!=2.0.*,!=2.1.*,!=2.10.*,!=2.2.*,!=2.3.*,!=2.4.*,!=2.5.*,!=2.6.*,!=2.7.*,!=2.8.*,!=2.9.*,<3.0.0dev,>=1.34.0->google-cloud-vision) (2.27.1)\n",
            "Requirement already satisfied: googleapis-common-protos<2.0dev,>=1.56.2 in /usr/local/lib/python3.10/dist-packages (from google-api-core[grpc]!=2.0.*,!=2.1.*,!=2.10.*,!=2.2.*,!=2.3.*,!=2.4.*,!=2.5.*,!=2.6.*,!=2.7.*,!=2.8.*,!=2.9.*,<3.0.0dev,>=1.34.0->google-cloud-vision) (1.59.0)\n",
            "Requirement already satisfied: grpcio-status<2.0dev,>=1.33.2 in /usr/local/lib/python3.10/dist-packages (from google-api-core[grpc]!=2.0.*,!=2.1.*,!=2.10.*,!=2.2.*,!=2.3.*,!=2.4.*,!=2.5.*,!=2.6.*,!=2.7.*,!=2.8.*,!=2.9.*,<3.0.0dev,>=1.34.0->google-cloud-vision) (1.48.2)\n",
            "Requirement already satisfied: grpcio<2.0dev,>=1.33.2 in /usr/local/lib/python3.10/dist-packages (from google-api-core[grpc]!=2.0.*,!=2.1.*,!=2.10.*,!=2.2.*,!=2.3.*,!=2.4.*,!=2.5.*,!=2.6.*,!=2.7.*,!=2.8.*,!=2.9.*,<3.0.0dev,>=1.34.0->google-cloud-vision) (1.54.0)\n",
            "Requirement already satisfied: six>=1.9.0 in /usr/local/lib/python3.10/dist-packages (from google-auth<3.0dev,>=2.14.1->google-api-core[grpc]!=2.0.*,!=2.1.*,!=2.10.*,!=2.2.*,!=2.3.*,!=2.4.*,!=2.5.*,!=2.6.*,!=2.7.*,!=2.8.*,!=2.9.*,<3.0.0dev,>=1.34.0->google-cloud-vision) (1.16.0)\n",
            "Requirement already satisfied: cachetools<6.0,>=2.0.0 in /usr/local/lib/python3.10/dist-packages (from google-auth<3.0dev,>=2.14.1->google-api-core[grpc]!=2.0.*,!=2.1.*,!=2.10.*,!=2.2.*,!=2.3.*,!=2.4.*,!=2.5.*,!=2.6.*,!=2.7.*,!=2.8.*,!=2.9.*,<3.0.0dev,>=1.34.0->google-cloud-vision) (5.3.0)\n",
            "Requirement already satisfied: pyasn1-modules>=0.2.1 in /usr/local/lib/python3.10/dist-packages (from google-auth<3.0dev,>=2.14.1->google-api-core[grpc]!=2.0.*,!=2.1.*,!=2.10.*,!=2.2.*,!=2.3.*,!=2.4.*,!=2.5.*,!=2.6.*,!=2.7.*,!=2.8.*,!=2.9.*,<3.0.0dev,>=1.34.0->google-cloud-vision) (0.3.0)\n",
            "Requirement already satisfied: rsa<5,>=3.1.4 in /usr/local/lib/python3.10/dist-packages (from google-auth<3.0dev,>=2.14.1->google-api-core[grpc]!=2.0.*,!=2.1.*,!=2.10.*,!=2.2.*,!=2.3.*,!=2.4.*,!=2.5.*,!=2.6.*,!=2.7.*,!=2.8.*,!=2.9.*,<3.0.0dev,>=1.34.0->google-cloud-vision) (4.9)\n",
            "Requirement already satisfied: certifi>=2017.4.17 in /usr/local/lib/python3.10/dist-packages (from requests<3.0.0dev,>=2.18.0->google-api-core[grpc]!=2.0.*,!=2.1.*,!=2.10.*,!=2.2.*,!=2.3.*,!=2.4.*,!=2.5.*,!=2.6.*,!=2.7.*,!=2.8.*,!=2.9.*,<3.0.0dev,>=1.34.0->google-cloud-vision) (2022.12.7)\n",
            "Requirement already satisfied: urllib3<1.27,>=1.21.1 in /usr/local/lib/python3.10/dist-packages (from requests<3.0.0dev,>=2.18.0->google-api-core[grpc]!=2.0.*,!=2.1.*,!=2.10.*,!=2.2.*,!=2.3.*,!=2.4.*,!=2.5.*,!=2.6.*,!=2.7.*,!=2.8.*,!=2.9.*,<3.0.0dev,>=1.34.0->google-cloud-vision) (1.26.15)\n",
            "Requirement already satisfied: charset-normalizer~=2.0.0 in /usr/local/lib/python3.10/dist-packages (from requests<3.0.0dev,>=2.18.0->google-api-core[grpc]!=2.0.*,!=2.1.*,!=2.10.*,!=2.2.*,!=2.3.*,!=2.4.*,!=2.5.*,!=2.6.*,!=2.7.*,!=2.8.*,!=2.9.*,<3.0.0dev,>=1.34.0->google-cloud-vision) (2.0.12)\n",
            "Requirement already satisfied: idna<4,>=2.5 in /usr/local/lib/python3.10/dist-packages (from requests<3.0.0dev,>=2.18.0->google-api-core[grpc]!=2.0.*,!=2.1.*,!=2.10.*,!=2.2.*,!=2.3.*,!=2.4.*,!=2.5.*,!=2.6.*,!=2.7.*,!=2.8.*,!=2.9.*,<3.0.0dev,>=1.34.0->google-cloud-vision) (3.4)\n",
            "Requirement already satisfied: pyasn1<0.6.0,>=0.4.6 in /usr/local/lib/python3.10/dist-packages (from pyasn1-modules>=0.2.1->google-auth<3.0dev,>=2.14.1->google-api-core[grpc]!=2.0.*,!=2.1.*,!=2.10.*,!=2.2.*,!=2.3.*,!=2.4.*,!=2.5.*,!=2.6.*,!=2.7.*,!=2.8.*,!=2.9.*,<3.0.0dev,>=1.34.0->google-cloud-vision) (0.5.0)\n"
          ]
        }
      ]
    },
    {
      "cell_type": "markdown",
      "source": [
        "# OCR Task"
      ],
      "metadata": {
        "id": "R6P3CEUjuN7b"
      }
    },
    {
      "cell_type": "code",
      "source": [
        "import os\n",
        "import io\n",
        "import numpy as np\n",
        "import pandas as pd\n",
        "import platform\n",
        "import re\n",
        "import calendar\n",
        "import datetime\n",
        "\n",
        "import cv2\n",
        "from PIL import ImageFont, ImageDraw, Image\n",
        "\n",
        "from google.cloud import vision"
      ],
      "metadata": {
        "id": "_FAERZVzuOjC"
      },
      "execution_count": 55,
      "outputs": []
    },
    {
      "cell_type": "markdown",
      "source": [
        "## 한국어 성능 향상을 위한 폰트 적용"
      ],
      "metadata": {
        "id": "FFEwmYH5uQ9G"
      }
    },
    {
      "cell_type": "code",
      "source": [
        "# 한국어 인식 정확도 향상을 위한 폰트 작업\n",
        "def putText(image, text, x, y, color=(0, 255, 0), font_size=22):\n",
        "    # PIL 이미지 타입 보장\n",
        "    if type(image) == np.ndarray:\n",
        "        color_coverted = cv2.cvtColor(image, cv2.COLOR_BGR2RGB)\n",
        "        image = Image.fromarray(color_coverted)\n",
        "    \n",
        "    \n",
        "    font = 'NanumGothic.ttf'   \n",
        "    image_font = ImageFont.truetype(font, font_size)\n",
        "    font = ImageFont.load_default()\n",
        "    draw = ImageDraw.Draw(image)\n",
        "\n",
        "    draw.text((x, y), text, font=image_font, fill=color)\n",
        "    \n",
        "    numpy_image = np.array(image)\n",
        "    opencv_image = cv2.cvtColor(numpy_image, cv2.COLOR_RGB2BGR)\n",
        "    return opencv_image"
      ],
      "metadata": {
        "id": "lx--hod_uUhL"
      },
      "execution_count": 56,
      "outputs": []
    },
    {
      "cell_type": "markdown",
      "source": [
        "## API 환경설정"
      ],
      "metadata": {
        "id": "ttJixtrguVyV"
      }
    },
    {
      "cell_type": "code",
      "source": [
        "# api 환경설정\n",
        "os.environ['GOOGLE_APPLICATION_CREDENTIALS'] = 'key_account.json'\n",
        "client_options = {'api_endpoint': 'eu-vision.googleapis.com'}\n",
        "client = vision.ImageAnnotatorClient(client_options=client_options)"
      ],
      "metadata": {
        "id": "BffgdNWvuWDk"
      },
      "execution_count": 57,
      "outputs": []
    },
    {
      "cell_type": "code",
      "source": [
        "path = 'example.jpg' \n",
        "with io.open(path, 'rb') as image_file:\n",
        "    content = image_file.read()"
      ],
      "metadata": {
        "id": "rW5D4j-luYG-"
      },
      "execution_count": 58,
      "outputs": []
    },
    {
      "cell_type": "markdown",
      "source": [
        "## API로 텍스트 추출"
      ],
      "metadata": {
        "id": "JNNrTi37uacM"
      }
    },
    {
      "cell_type": "code",
      "source": [
        "# 구글 api와 연동\n",
        "image = vision.Image(content=content)\n",
        "response = client.text_detection(image=image)\n",
        "texts = response.text_annotations\n",
        "print('구글 드라이브 API 연동 완료')"
      ],
      "metadata": {
        "colab": {
          "base_uri": "https://localhost:8080/"
        },
        "id": "cZo2RKPeubC7",
        "outputId": "4fe1a717-e1e6-42db-a650-e18ec695cd52"
      },
      "execution_count": 59,
      "outputs": [
        {
          "output_type": "stream",
          "name": "stdout",
          "text": [
            "구글 드라이브 API 연동 완료\n"
          ]
        }
      ]
    },
    {
      "cell_type": "markdown",
      "source": [
        "## 원본 텍스트 블럭에서 텍스트만 추출"
      ],
      "metadata": {
        "id": "gat59ITVuc34"
      }
    },
    {
      "cell_type": "code",
      "source": [
        "# 이미지 불러오기\n",
        "img = cv2.imread(path)\n",
        "roi_img = img.copy()\n",
        "\n",
        "# 각 텍스트 블럭마다 수행\n",
        "print('이미지에서 사진 추출...') \n",
        "for text in texts:\n",
        "    # 출력\n",
        "    # print('\\n\"{}\"'.format(text.description))\n",
        " \n",
        "    vertices = (['({},{})'.format(vertex.x, vertex.y)\n",
        "                for vertex in text.bounding_poly.vertices])\n",
        "    \n",
        "    ocr_text = text.description\n",
        "    x1 = text.bounding_poly.vertices[0].x\n",
        "    y1 = text.bounding_poly.vertices[0].y\n",
        "    x2 = text.bounding_poly.vertices[1].x\n",
        "    y2 = text.bounding_poly.vertices[2].y\n",
        "    \n",
        "    cv2.rectangle(roi_img, (int(x1), int(y1)), (int(x2), int(y2)), (0,255,0), 2)\n",
        "    roi_img = putText(roi_img, ocr_text, x1, y1 - 30, font_size=30) # 폰트 적용\n",
        " \n",
        " # 예외처리\n",
        "if response.error.message:\n",
        "    raise Exception(\n",
        "        '{}\\nFor more info on error messages, check: '\n",
        "        'https://cloud.google.com/apis/design/errors'.format(\n",
        "            response.error.message))\n",
        "print('작업 완료!')"
      ],
      "metadata": {
        "id": "g7eG4irhueur",
        "colab": {
          "base_uri": "https://localhost:8080/"
        },
        "outputId": "261ea96b-2a5c-4894-d4c3-50e2855c6a64"
      },
      "execution_count": 60,
      "outputs": [
        {
          "output_type": "stream",
          "name": "stdout",
          "text": [
            "이미지에서 사진 추출...\n",
            "작업 완료!\n"
          ]
        }
      ]
    },
    {
      "cell_type": "code",
      "source": [
        "# 첫 인덱스의 텍스트 뭉치만 사용\n",
        "for idx, text in enumerate(texts):\n",
        "  document = text.description\n",
        "  if idx == 0:\n",
        "    break\n",
        "    \n",
        "# 텍스트를 리스트에 저장\n",
        "document_list = document.replace(' ','').split('\\n')"
      ],
      "metadata": {
        "id": "jPXUzmtQuhoM"
      },
      "execution_count": 61,
      "outputs": []
    },
    {
      "cell_type": "markdown",
      "source": [
        "## 사용할 정보 추출"
      ],
      "metadata": {
        "id": "CgaHIUdbukIS"
      }
    },
    {
      "cell_type": "code",
      "source": [
        "\"\"\" \n",
        "  추출할 정보 \n",
        "  1. 연령 2. 신장 3. 날짜 4. 시간 5. 체지방률 6. BMI \n",
        "\"\"\"\n",
        "target_feature = ['연령', '신장', '날짜', '시간','체지방률','BMI']\n",
        "global fat_rate, today\n",
        "for text in document_list:\n",
        "  tar_text = text.replace(' ','')\n",
        "\n",
        "  for feature in target_feature:\n",
        "    if feature in tar_text:\n",
        "      # 숫자, :, .만 추출\n",
        "      extract_num = re.sub(r'[^0-9.:]', '', tar_text) \n",
        "\n",
        "      # 추출할 정보 있는 경우\n",
        "      if extract_num != '': \n",
        "        # 예외 처리\n",
        "        extract_num = extract_num[1:] if extract_num[0]==':' else extract_num\n",
        "        print(f'{feature} : {extract_num}')\n",
        "\n",
        "        if feature == '체지방률':\n",
        "          fat_rate = extract_num\n",
        "        elif feature == '날짜':\n",
        "          today_date = list(map(int,extract_num.split('.')))\n",
        "          today = datetime.date(today_date[0], today_date[1], today_date[2])\n",
        "\n",
        "        # 추출 정보 중복 출력 방지\n",
        "        target_feature.remove(feature)\n",
        "        break"
      ],
      "metadata": {
        "id": "hrdUWl4QukZU",
        "colab": {
          "base_uri": "https://localhost:8080/"
        },
        "outputId": "82e2f161-58de-4cf9-d215-4c61b889abe3"
      },
      "execution_count": 62,
      "outputs": [
        {
          "output_type": "stream",
          "name": "stdout",
          "text": [
            "연령 : 31\n",
            "신장 : 160\n",
            "날짜 : 2023.05.05\n",
            "시간 : 08:59:48\n",
            "BMI : 19.7\n",
            "체지방률 : 31.9\n"
          ]
        }
      ]
    },
    {
      "cell_type": "markdown",
      "source": [
        "# 사진에서 추출한 정보 바탕으로 데이터 업데이트 "
      ],
      "metadata": {
        "id": "PiVf3mOpun9w"
      }
    },
    {
      "cell_type": "code",
      "source": [
        "history_df = pd.read_csv('./userHistory .csv')"
      ],
      "metadata": {
        "id": "mR3YaVwEupom"
      },
      "execution_count": 63,
      "outputs": []
    },
    {
      "cell_type": "code",
      "source": [
        "# datetime & string 관련 함수\n",
        "def get_day(date):\n",
        "  days=['월요일','화요일','수요일','목요일','금요일','토요일','일요일']\n",
        "  return days[date.weekday()]\n",
        "def string_to_date(str_date):\n",
        "  return datetime.datetime.strptime(str_date, '%Y-%m-%d')\n",
        "def string_to_week(str_date):\n",
        "  return datetime.datetime.strptime(str_date, '%Y-%m-%d').date().isocalendar().week"
      ],
      "metadata": {
        "id": "RxshuZDLuqpV"
      },
      "execution_count": 64,
      "outputs": []
    },
    {
      "cell_type": "code",
      "source": [
        "# 인증현황 출력해주는 함수\n",
        "def print_calendar(today,history):\n",
        "  days = ['Mon','Tue','Wed','Thu','Fri','Sat','Sun']\n",
        "  print(\" \" * 17, '이번 주 인증현황\\n')\n",
        "  for day in days:\n",
        "    print(day + \"\\t\", end = ' ')\n",
        "  print('')\n",
        "  \n",
        "  # 해당 주간 데이터 뽑기\n",
        "  same_week = []\n",
        "  for day in history:\n",
        "    if string_to_week(day) == today.isocalendar().week:\n",
        "      same_week.append(day)\n",
        "  start_of_week = today - datetime.timedelta(days=today.weekday())\n",
        "  print('=' * 55)\n",
        "\n",
        "  # 해당 주간에 대한 날짜 출력\n",
        "  for i in range(7):\n",
        "    print(start_of_week.month ,'/',start_of_week.day,'\\t' ,end='')\n",
        "    start_of_week += datetime.timedelta(days=1)\n",
        "  print('')\n",
        "  print('=' * 55)\n",
        "\n",
        "  # 해당 주간 인증 현황\n",
        "  check_this_week = ['X' for i in range(7)]\n",
        "  for day in same_week:\n",
        "    check_this_week[string_to_date(day).weekday()] = 'O'\n",
        "  for i in check_this_week:\n",
        "    print(\" \",i, end ='\\t')\n",
        "  print('')"
      ],
      "metadata": {
        "id": "9Js9ID4HurGB"
      },
      "execution_count": 65,
      "outputs": []
    },
    {
      "cell_type": "code",
      "source": [
        "# history 데이터프레임에 저장된 유저 인증 정보\n",
        "history_df"
      ],
      "metadata": {
        "id": "gJEQxhPous8M",
        "colab": {
          "base_uri": "https://localhost:8080/",
          "height": 426
        },
        "outputId": "d6e5eff2-d965-4416-b29b-43c6d609292d"
      },
      "execution_count": 66,
      "outputs": [
        {
          "output_type": "execute_result",
          "data": {
            "text/plain": [
              "          date    fatRate\n",
              "0   2023-04-01  32.476556\n",
              "1   2023-04-02  33.812962\n",
              "2   2023-04-03  33.668333\n",
              "3   2023-04-04  31.667107\n",
              "4   2023-04-09  32.624697\n",
              "5   2023-04-11  30.657747\n",
              "6   2023-04-15  31.625957\n",
              "7   2023-04-16  31.605392\n",
              "8   2023-04-26  32.126030\n",
              "9   2023-04-29  32.243098\n",
              "10  2023-05-01  31.594279\n",
              "11  2023-05-03  31.890183"
            ],
            "text/html": [
              "\n",
              "  <div id=\"df-4d3236b4-7ce6-4a74-a94a-52be3cb11700\">\n",
              "    <div class=\"colab-df-container\">\n",
              "      <div>\n",
              "<style scoped>\n",
              "    .dataframe tbody tr th:only-of-type {\n",
              "        vertical-align: middle;\n",
              "    }\n",
              "\n",
              "    .dataframe tbody tr th {\n",
              "        vertical-align: top;\n",
              "    }\n",
              "\n",
              "    .dataframe thead th {\n",
              "        text-align: right;\n",
              "    }\n",
              "</style>\n",
              "<table border=\"1\" class=\"dataframe\">\n",
              "  <thead>\n",
              "    <tr style=\"text-align: right;\">\n",
              "      <th></th>\n",
              "      <th>date</th>\n",
              "      <th>fatRate</th>\n",
              "    </tr>\n",
              "  </thead>\n",
              "  <tbody>\n",
              "    <tr>\n",
              "      <th>0</th>\n",
              "      <td>2023-04-01</td>\n",
              "      <td>32.476556</td>\n",
              "    </tr>\n",
              "    <tr>\n",
              "      <th>1</th>\n",
              "      <td>2023-04-02</td>\n",
              "      <td>33.812962</td>\n",
              "    </tr>\n",
              "    <tr>\n",
              "      <th>2</th>\n",
              "      <td>2023-04-03</td>\n",
              "      <td>33.668333</td>\n",
              "    </tr>\n",
              "    <tr>\n",
              "      <th>3</th>\n",
              "      <td>2023-04-04</td>\n",
              "      <td>31.667107</td>\n",
              "    </tr>\n",
              "    <tr>\n",
              "      <th>4</th>\n",
              "      <td>2023-04-09</td>\n",
              "      <td>32.624697</td>\n",
              "    </tr>\n",
              "    <tr>\n",
              "      <th>5</th>\n",
              "      <td>2023-04-11</td>\n",
              "      <td>30.657747</td>\n",
              "    </tr>\n",
              "    <tr>\n",
              "      <th>6</th>\n",
              "      <td>2023-04-15</td>\n",
              "      <td>31.625957</td>\n",
              "    </tr>\n",
              "    <tr>\n",
              "      <th>7</th>\n",
              "      <td>2023-04-16</td>\n",
              "      <td>31.605392</td>\n",
              "    </tr>\n",
              "    <tr>\n",
              "      <th>8</th>\n",
              "      <td>2023-04-26</td>\n",
              "      <td>32.126030</td>\n",
              "    </tr>\n",
              "    <tr>\n",
              "      <th>9</th>\n",
              "      <td>2023-04-29</td>\n",
              "      <td>32.243098</td>\n",
              "    </tr>\n",
              "    <tr>\n",
              "      <th>10</th>\n",
              "      <td>2023-05-01</td>\n",
              "      <td>31.594279</td>\n",
              "    </tr>\n",
              "    <tr>\n",
              "      <th>11</th>\n",
              "      <td>2023-05-03</td>\n",
              "      <td>31.890183</td>\n",
              "    </tr>\n",
              "  </tbody>\n",
              "</table>\n",
              "</div>\n",
              "      <button class=\"colab-df-convert\" onclick=\"convertToInteractive('df-4d3236b4-7ce6-4a74-a94a-52be3cb11700')\"\n",
              "              title=\"Convert this dataframe to an interactive table.\"\n",
              "              style=\"display:none;\">\n",
              "        \n",
              "  <svg xmlns=\"http://www.w3.org/2000/svg\" height=\"24px\"viewBox=\"0 0 24 24\"\n",
              "       width=\"24px\">\n",
              "    <path d=\"M0 0h24v24H0V0z\" fill=\"none\"/>\n",
              "    <path d=\"M18.56 5.44l.94 2.06.94-2.06 2.06-.94-2.06-.94-.94-2.06-.94 2.06-2.06.94zm-11 1L8.5 8.5l.94-2.06 2.06-.94-2.06-.94L8.5 2.5l-.94 2.06-2.06.94zm10 10l.94 2.06.94-2.06 2.06-.94-2.06-.94-.94-2.06-.94 2.06-2.06.94z\"/><path d=\"M17.41 7.96l-1.37-1.37c-.4-.4-.92-.59-1.43-.59-.52 0-1.04.2-1.43.59L10.3 9.45l-7.72 7.72c-.78.78-.78 2.05 0 2.83L4 21.41c.39.39.9.59 1.41.59.51 0 1.02-.2 1.41-.59l7.78-7.78 2.81-2.81c.8-.78.8-2.07 0-2.86zM5.41 20L4 18.59l7.72-7.72 1.47 1.35L5.41 20z\"/>\n",
              "  </svg>\n",
              "      </button>\n",
              "      \n",
              "  <style>\n",
              "    .colab-df-container {\n",
              "      display:flex;\n",
              "      flex-wrap:wrap;\n",
              "      gap: 12px;\n",
              "    }\n",
              "\n",
              "    .colab-df-convert {\n",
              "      background-color: #E8F0FE;\n",
              "      border: none;\n",
              "      border-radius: 50%;\n",
              "      cursor: pointer;\n",
              "      display: none;\n",
              "      fill: #1967D2;\n",
              "      height: 32px;\n",
              "      padding: 0 0 0 0;\n",
              "      width: 32px;\n",
              "    }\n",
              "\n",
              "    .colab-df-convert:hover {\n",
              "      background-color: #E2EBFA;\n",
              "      box-shadow: 0px 1px 2px rgba(60, 64, 67, 0.3), 0px 1px 3px 1px rgba(60, 64, 67, 0.15);\n",
              "      fill: #174EA6;\n",
              "    }\n",
              "\n",
              "    [theme=dark] .colab-df-convert {\n",
              "      background-color: #3B4455;\n",
              "      fill: #D2E3FC;\n",
              "    }\n",
              "\n",
              "    [theme=dark] .colab-df-convert:hover {\n",
              "      background-color: #434B5C;\n",
              "      box-shadow: 0px 1px 3px 1px rgba(0, 0, 0, 0.15);\n",
              "      filter: drop-shadow(0px 1px 2px rgba(0, 0, 0, 0.3));\n",
              "      fill: #FFFFFF;\n",
              "    }\n",
              "  </style>\n",
              "\n",
              "      <script>\n",
              "        const buttonEl =\n",
              "          document.querySelector('#df-4d3236b4-7ce6-4a74-a94a-52be3cb11700 button.colab-df-convert');\n",
              "        buttonEl.style.display =\n",
              "          google.colab.kernel.accessAllowed ? 'block' : 'none';\n",
              "\n",
              "        async function convertToInteractive(key) {\n",
              "          const element = document.querySelector('#df-4d3236b4-7ce6-4a74-a94a-52be3cb11700');\n",
              "          const dataTable =\n",
              "            await google.colab.kernel.invokeFunction('convertToInteractive',\n",
              "                                                     [key], {});\n",
              "          if (!dataTable) return;\n",
              "\n",
              "          const docLinkHtml = 'Like what you see? Visit the ' +\n",
              "            '<a target=\"_blank\" href=https://colab.research.google.com/notebooks/data_table.ipynb>data table notebook</a>'\n",
              "            + ' to learn more about interactive tables.';\n",
              "          element.innerHTML = '';\n",
              "          dataTable['output_type'] = 'display_data';\n",
              "          await google.colab.output.renderOutput(dataTable, element);\n",
              "          const docLink = document.createElement('div');\n",
              "          docLink.innerHTML = docLinkHtml;\n",
              "          element.appendChild(docLink);\n",
              "        }\n",
              "      </script>\n",
              "    </div>\n",
              "  </div>\n",
              "  "
            ]
          },
          "metadata": {},
          "execution_count": 66
        }
      ]
    },
    {
      "cell_type": "code",
      "source": [
        "# 이번주 인증 현황 기록\n",
        "cnt_week = 0 \n",
        "for date in history_df['date']:\n",
        "  if string_to_week(date) == today.isocalendar().week:\n",
        "    cnt_week+=1\n",
        "today_pd = [today.strftime('%Y-%m-%d'), fat_rate]\n",
        "history_df.loc[len(history_df)] = today_pd\n",
        "print_calendar(today,history_df['date'])\n",
        "\n",
        "\n",
        "print(f'\\n\\n{today.year}년 {today.month}월 {today.day}일 인증이 완료되었습니다!\\n')\n",
        "if cnt_week < 2:\n",
        "  print(f'이번주 {2-cnt_week}번 더 운동하시면 인증완료!')\n",
        "else:\n",
        "  print(f'이번 주 운동 인증 완료!')"
      ],
      "metadata": {
        "id": "pSvRMMI6uu-g",
        "colab": {
          "base_uri": "https://localhost:8080/"
        },
        "outputId": "2f55b0a0-4592-4bad-adc1-74adac89c293"
      },
      "execution_count": 67,
      "outputs": [
        {
          "output_type": "stream",
          "name": "stdout",
          "text": [
            "                  이번 주 인증현황\n",
            "\n",
            "Mon\t Tue\t Wed\t Thu\t Fri\t Sat\t Sun\t \n",
            "=======================================================\n",
            "5 / 1 \t5 / 2 \t5 / 3 \t5 / 4 \t5 / 5 \t5 / 6 \t5 / 7 \t\n",
            "=======================================================\n",
            "  O\t  X\t  O\t  X\t  O\t  X\t  X\t\n",
            "\n",
            "\n",
            "2023년 5월 5일 인증이 완료되었습니다!\n",
            "\n",
            "이번 주 운동 인증 완료!\n"
          ]
        }
      ]
    }
  ]
}